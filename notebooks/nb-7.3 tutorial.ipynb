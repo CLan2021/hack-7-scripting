{
 "cells": [
  {
   "cell_type": "code",
   "execution_count": 1,
   "id": "attempted-boost",
   "metadata": {},
   "outputs": [],
   "source": [
    "# we initially cannot import it"
   ]
  },
  {
   "cell_type": "code",
   "execution_count": 2,
   "id": "technological-spotlight",
   "metadata": {},
   "outputs": [
    {
     "ename": "ModuleNotFoundError",
     "evalue": "No module named 'mypy_extensions'",
     "output_type": "error",
     "traceback": [
      "\u001b[0;31m---------------------------------------------------------------------------\u001b[0m",
      "\u001b[0;31mModuleNotFoundError\u001b[0m                       Traceback (most recent call last)",
      "\u001b[0;32m<ipython-input-2-a86d0e64ae47>\u001b[0m in \u001b[0;36m<module>\u001b[0;34m\u001b[0m\n\u001b[0;32m----> 1\u001b[0;31m \u001b[0;32mimport\u001b[0m \u001b[0mmypy_extensions\u001b[0m\u001b[0;34m\u001b[0m\u001b[0;34m\u001b[0m\u001b[0m\n\u001b[0m",
      "\u001b[0;31mModuleNotFoundError\u001b[0m: No module named 'mypy_extensions'"
     ]
    }
   ],
   "source": [
    "import mypy_extensions"
   ]
  },
  {
   "cell_type": "code",
   "execution_count": 3,
   "id": "cultural-classics",
   "metadata": {},
   "outputs": [],
   "source": [
    "# we nned to add the parent dir to sys.path"
   ]
  },
  {
   "cell_type": "code",
   "execution_count": 4,
   "id": "tired-lobby",
   "metadata": {},
   "outputs": [],
   "source": [
    "import sys"
   ]
  },
  {
   "cell_type": "code",
   "execution_count": 5,
   "id": "modern-patrick",
   "metadata": {},
   "outputs": [
    {
     "data": {
      "text/plain": [
       "['/home/catherine/hacks/hack-7-scripting/notebooks',\n",
       " '/home/catherine/miniconda3/lib/python38.zip',\n",
       " '/home/catherine/miniconda3/lib/python3.8',\n",
       " '/home/catherine/miniconda3/lib/python3.8/lib-dynload',\n",
       " '',\n",
       " '/home/catherine/miniconda3/lib/python3.8/site-packages',\n",
       " '/home/catherine/miniconda3/lib/python3.8/site-packages/IPython/extensions',\n",
       " '/home/catherine/.ipython']"
      ]
     },
     "execution_count": 5,
     "metadata": {},
     "output_type": "execute_result"
    }
   ],
   "source": [
    "sys.path"
   ]
  },
  {
   "cell_type": "code",
   "execution_count": 6,
   "id": "cordless-brook",
   "metadata": {},
   "outputs": [],
   "source": [
    "sys.path.append(\"..\")"
   ]
  },
  {
   "cell_type": "code",
   "execution_count": 7,
   "id": "married-newcastle",
   "metadata": {},
   "outputs": [
    {
     "data": {
      "text/plain": [
       "['/home/catherine/hacks/hack-7-scripting/notebooks',\n",
       " '/home/catherine/miniconda3/lib/python38.zip',\n",
       " '/home/catherine/miniconda3/lib/python3.8',\n",
       " '/home/catherine/miniconda3/lib/python3.8/lib-dynload',\n",
       " '',\n",
       " '/home/catherine/miniconda3/lib/python3.8/site-packages',\n",
       " '/home/catherine/miniconda3/lib/python3.8/site-packages/IPython/extensions',\n",
       " '/home/catherine/.ipython',\n",
       " '..']"
      ]
     },
     "execution_count": 7,
     "metadata": {},
     "output_type": "execute_result"
    }
   ],
   "source": [
    "sys.path"
   ]
  },
  {
   "cell_type": "code",
   "execution_count": 8,
   "id": "frank-airport",
   "metadata": {},
   "outputs": [],
   "source": [
    "import mypackage"
   ]
  },
  {
   "cell_type": "code",
   "execution_count": null,
   "id": "rural-arbor",
   "metadata": {},
   "outputs": [],
   "source": [
    "mypackage.[can't do much with it yet]"
   ]
  },
  {
   "cell_type": "code",
   "execution_count": 9,
   "id": "interim-scientist",
   "metadata": {},
   "outputs": [],
   "source": [
    "# instead we can import the modules from it"
   ]
  },
  {
   "cell_type": "code",
   "execution_count": 10,
   "id": "traditional-monte",
   "metadata": {},
   "outputs": [],
   "source": [
    "from mypackage import mymodule"
   ]
  },
  {
   "cell_type": "code",
   "execution_count": 11,
   "id": "african-talent",
   "metadata": {},
   "outputs": [
    {
     "data": {
      "text/plain": [
       "4"
      ]
     },
     "execution_count": 11,
     "metadata": {},
     "output_type": "execute_result"
    }
   ],
   "source": [
    "mymodule.test_function()"
   ]
  },
  {
   "cell_type": "code",
   "execution_count": 12,
   "id": "august-friendship",
   "metadata": {},
   "outputs": [
    {
     "data": {
      "text/plain": [
       "6"
      ]
     },
     "execution_count": 12,
     "metadata": {},
     "output_type": "execute_result"
    }
   ],
   "source": [
    "mymodule.test_function()"
   ]
  },
  {
   "cell_type": "markdown",
   "id": "competitive-plasma",
   "metadata": {},
   "source": [
    "=================================================="
   ]
  },
  {
   "cell_type": "code",
   "execution_count": 13,
   "id": "separated-survival",
   "metadata": {},
   "outputs": [],
   "source": [
    "import os"
   ]
  },
  {
   "cell_type": "code",
   "execution_count": 14,
   "id": "equipped-rebate",
   "metadata": {},
   "outputs": [
    {
     "data": {
      "text/plain": [
       "<function posixpath.join(a, *p)>"
      ]
     },
     "execution_count": 14,
     "metadata": {},
     "output_type": "execute_result"
    }
   ],
   "source": [
    "os.path.join"
   ]
  },
  {
   "cell_type": "code",
   "execution_count": 15,
   "id": "statutory-shade",
   "metadata": {},
   "outputs": [],
   "source": [
    "from os import path"
   ]
  },
  {
   "cell_type": "code",
   "execution_count": 17,
   "id": "unlimited-shaft",
   "metadata": {},
   "outputs": [
    {
     "data": {
      "text/plain": [
       "<function posixpath.join(a, *p)>"
      ]
     },
     "execution_count": 17,
     "metadata": {},
     "output_type": "execute_result"
    }
   ],
   "source": [
    "path.join"
   ]
  },
  {
   "cell_type": "code",
   "execution_count": 16,
   "id": "junior-spouse",
   "metadata": {},
   "outputs": [],
   "source": [
    "from os import *"
   ]
  },
  {
   "cell_type": "code",
   "execution_count": 18,
   "id": "suburban-gossip",
   "metadata": {},
   "outputs": [
    {
     "data": {
      "text/plain": [
       "<function posixpath.join(a, *p)>"
      ]
     },
     "execution_count": 18,
     "metadata": {},
     "output_type": "execute_result"
    }
   ],
   "source": [
    "path.join"
   ]
  },
  {
   "cell_type": "code",
   "execution_count": 19,
   "id": "celtic-closer",
   "metadata": {},
   "outputs": [],
   "source": [
    "from os.path import join"
   ]
  },
  {
   "cell_type": "code",
   "execution_count": 20,
   "id": "authorized-certificate",
   "metadata": {},
   "outputs": [
    {
     "data": {
      "text/plain": [
       "<function posixpath.join(a, *p)>"
      ]
     },
     "execution_count": 20,
     "metadata": {},
     "output_type": "execute_result"
    }
   ],
   "source": [
    "join"
   ]
  },
  {
   "cell_type": "code",
   "execution_count": null,
   "id": "charming-acting",
   "metadata": {},
   "outputs": [],
   "source": []
  }
 ],
 "metadata": {
  "kernelspec": {
   "display_name": "Python 3",
   "language": "python",
   "name": "python3"
  },
  "language_info": {
   "codemirror_mode": {
    "name": "ipython",
    "version": 3
   },
   "file_extension": ".py",
   "mimetype": "text/x-python",
   "name": "python",
   "nbconvert_exporter": "python",
   "pygments_lexer": "ipython3",
   "version": "3.8.5"
  }
 },
 "nbformat": 4,
 "nbformat_minor": 5
}
