{
 "cells": [
  {
   "cell_type": "code",
   "execution_count": 1,
   "id": "objective-footwear",
   "metadata": {},
   "outputs": [],
   "source": [
    "# import sys from the standard lib\n",
    "import sys"
   ]
  },
  {
   "cell_type": "code",
   "execution_count": 2,
   "id": "radio-philadelphia",
   "metadata": {},
   "outputs": [
    {
     "name": "stdout",
     "output_type": "stream",
     "text": [
      "['/home/catherine/hacks/hack-7-scripting/notebooks', '/home/catherine/miniconda3/lib/python38.zip', '/home/catherine/miniconda3/lib/python3.8', '/home/catherine/miniconda3/lib/python3.8/lib-dynload', '', '/home/catherine/miniconda3/lib/python3.8/site-packages', '/home/catherine/miniconda3/lib/python3.8/site-packages/IPython/extensions', '/home/catherine/.ipython']\n"
     ]
    }
   ],
   "source": [
    "print(sys.path)"
   ]
  },
  {
   "cell_type": "code",
   "execution_count": 4,
   "id": "needed-provider",
   "metadata": {},
   "outputs": [],
   "source": [
    "# append your current parent dir to the sys.path list\n",
    "sys.path.append(\"../\")"
   ]
  },
  {
   "cell_type": "code",
   "execution_count": 5,
   "id": "overall-bearing",
   "metadata": {},
   "outputs": [
    {
     "name": "stdout",
     "output_type": "stream",
     "text": [
      "['/home/catherine/hacks/hack-7-scripting/notebooks', '/home/catherine/miniconda3/lib/python38.zip', '/home/catherine/miniconda3/lib/python3.8', '/home/catherine/miniconda3/lib/python3.8/lib-dynload', '', '/home/catherine/miniconda3/lib/python3.8/site-packages', '/home/catherine/miniconda3/lib/python3.8/site-packages/IPython/extensions', '/home/catherine/.ipython', '../']\n"
     ]
    }
   ],
   "source": [
    "print(sys.path)"
   ]
  },
  {
   "cell_type": "code",
   "execution_count": 6,
   "id": "returning-singer",
   "metadata": {},
   "outputs": [],
   "source": [
    "import mypackage.mymodule"
   ]
  },
  {
   "cell_type": "code",
   "execution_count": 7,
   "id": "positive-chess",
   "metadata": {},
   "outputs": [
    {
     "data": {
      "text/plain": [
       "'My reply is no'"
      ]
     },
     "execution_count": 7,
     "metadata": {},
     "output_type": "execute_result"
    }
   ],
   "source": [
    "mypackage.mymodule.magic_eight_ball()"
   ]
  },
  {
   "cell_type": "code",
   "execution_count": 8,
   "id": "mechanical-lemon",
   "metadata": {},
   "outputs": [],
   "source": [
    "from mypackage import mymodule"
   ]
  },
  {
   "cell_type": "code",
   "execution_count": 9,
   "id": "electric-delight",
   "metadata": {},
   "outputs": [
    {
     "data": {
      "text/plain": [
       "'You may rely on it.'"
      ]
     },
     "execution_count": 9,
     "metadata": {},
     "output_type": "execute_result"
    }
   ],
   "source": [
    "mymodule.magic_eight_ball()"
   ]
  },
  {
   "cell_type": "code",
   "execution_count": 10,
   "id": "fleet-ghost",
   "metadata": {},
   "outputs": [],
   "source": [
    "from mypackage.mymodule import magic_eight_ball"
   ]
  },
  {
   "cell_type": "code",
   "execution_count": 11,
   "id": "matched-annex",
   "metadata": {},
   "outputs": [
    {
     "data": {
      "text/plain": [
       "'You may rely on it.'"
      ]
     },
     "execution_count": 11,
     "metadata": {},
     "output_type": "execute_result"
    }
   ],
   "source": [
    "magic_eight_ball()"
   ]
  },
  {
   "cell_type": "code",
   "execution_count": 12,
   "id": "worldwide-trading",
   "metadata": {},
   "outputs": [
    {
     "data": {
      "text/plain": [
       "'Cannot predict now.'"
      ]
     },
     "execution_count": 12,
     "metadata": {},
     "output_type": "execute_result"
    }
   ],
   "source": [
    "from mypackage.mymodule import magic_eight_ball\n",
    "magic_eight_ball()"
   ]
  },
  {
   "cell_type": "code",
   "execution_count": 13,
   "id": "polish-frontier",
   "metadata": {},
   "outputs": [
    {
     "data": {
      "text/plain": [
       "'Cannot predict now.'"
      ]
     },
     "execution_count": 13,
     "metadata": {},
     "output_type": "execute_result"
    }
   ],
   "source": [
    "# this workflow is not yet supported\n",
    "import mypackage\n",
    "mypackage.mymodule.magic_eight_ball()"
   ]
  },
  {
   "cell_type": "markdown",
   "id": "frequent-collection",
   "metadata": {},
   "source": [
    "============================================="
   ]
  },
  {
   "cell_type": "code",
   "execution_count": 2,
   "id": "british-basket",
   "metadata": {},
   "outputs": [],
   "source": [
    "# add our local package scope to sys.path\n",
    "import sys\n",
    "sys.path.append(\"..\")"
   ]
  },
  {
   "cell_type": "code",
   "execution_count": 3,
   "id": "outstanding-royalty",
   "metadata": {},
   "outputs": [
    {
     "data": {
      "text/plain": [
       "'Yes – definitely.'"
      ]
     },
     "execution_count": 3,
     "metadata": {},
     "output_type": "execute_result"
    }
   ],
   "source": [
    "# access our module function from the package-level import\n",
    "import mypackage\n",
    "mypackage.mymodule.magic_eight_ball()"
   ]
  },
  {
   "cell_type": "code",
   "execution_count": 4,
   "id": "amber-mainstream",
   "metadata": {},
   "outputs": [],
   "source": [
    "# show the package-level docstring\n",
    "mypackage?"
   ]
  },
  {
   "cell_type": "code",
   "execution_count": null,
   "id": "incoming-ridge",
   "metadata": {},
   "outputs": [],
   "source": []
  }
 ],
 "metadata": {
  "kernelspec": {
   "display_name": "Python 3",
   "language": "python",
   "name": "python3"
  },
  "language_info": {
   "codemirror_mode": {
    "name": "ipython",
    "version": 3
   },
   "file_extension": ".py",
   "mimetype": "text/x-python",
   "name": "python",
   "nbconvert_exporter": "python",
   "pygments_lexer": "ipython3",
   "version": "3.8.5"
  }
 },
 "nbformat": 4,
 "nbformat_minor": 5
}
