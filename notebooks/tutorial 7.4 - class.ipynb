{
 "cells": [
  {
   "cell_type": "code",
   "execution_count": 1,
   "id": "center-breakdown",
   "metadata": {},
   "outputs": [],
   "source": [
    "# create a new simple class\n",
    "class Box:\n",
    "    def __init__(self):\n",
    "        pass"
   ]
  },
  {
   "cell_type": "code",
   "execution_count": 2,
   "id": "reflected-volunteer",
   "metadata": {},
   "outputs": [],
   "source": [
    "# create an instance of the Box class\n",
    "box = Box()"
   ]
  },
  {
   "cell_type": "code",
   "execution_count": 3,
   "id": "impressed-enough",
   "metadata": {},
   "outputs": [],
   "source": [
    "# create multiple instances\n",
    "box1 = Box()\n",
    "box2 = Box()"
   ]
  },
  {
   "cell_type": "code",
   "execution_count": 4,
   "id": "muslim-needle",
   "metadata": {},
   "outputs": [
    {
     "name": "stdout",
     "output_type": "stream",
     "text": [
      "hello world\n"
     ]
    }
   ],
   "source": [
    "# store object to class objects as an attribute\n",
    "# and retrieve it later using the dot access\n",
    "box1 = Box()\n",
    "box1.test = \"hello world\"\n",
    "print(box1.test)"
   ]
  },
  {
   "cell_type": "markdown",
   "id": "later-injection",
   "metadata": {},
   "source": [
    "### class init arguments"
   ]
  },
  {
   "cell_type": "code",
   "execution_count": 5,
   "id": "thirty-mayor",
   "metadata": {},
   "outputs": [],
   "source": [
    "class Dog:\n",
    "    def __init__(self, name):\n",
    "        self.name = name"
   ]
  },
  {
   "cell_type": "code",
   "execution_count": 6,
   "id": "respected-bunny",
   "metadata": {},
   "outputs": [],
   "source": [
    "# init two Dog class instances\n",
    "dog1 = Dog(name=\"Phylo\")\n",
    "dog2 = Dog(name=\"Hank\")"
   ]
  },
  {
   "cell_type": "code",
   "execution_count": 7,
   "id": "complete-mercy",
   "metadata": {},
   "outputs": [
    {
     "name": "stdout",
     "output_type": "stream",
     "text": [
      "Phylo\n",
      "Hank\n"
     ]
    }
   ],
   "source": [
    "# print the names of each instance\n",
    "print(dog1.name)\n",
    "print(dog2.name)"
   ]
  },
  {
   "cell_type": "markdown",
   "id": "front-houston",
   "metadata": {},
   "source": [
    "### class functions"
   ]
  },
  {
   "cell_type": "code",
   "execution_count": 8,
   "id": "sustainable-preserve",
   "metadata": {},
   "outputs": [],
   "source": [
    "class Dog:\n",
    "    def __init__(self, name, weight):\n",
    "        self.name = name\n",
    "        self.weight = weight\n",
    "        \n",
    "    def speak(self):\n",
    "        \"\"\"\n",
    "        Returns Dog's speech as a string. Larger dogs speak in all caps.\n",
    "        \"\"\"\n",
    "        if self.weight > 30:\n",
    "            print(f\"Bork, hi my name is {self.name}!\".upper())\n",
    "        else:\n",
    "            print(f\"Bork, hi my name is {self.name}\")"
   ]
  },
  {
   "cell_type": "code",
   "execution_count": 9,
   "id": "vulnerable-lloyd",
   "metadata": {},
   "outputs": [
    {
     "name": "stdout",
     "output_type": "stream",
     "text": [
      "Bork, hi my name is Phylo\n"
     ]
    }
   ],
   "source": [
    "dog1 = Dog(name=\"Phylo\", weight=25)\n",
    "dog1.speak()"
   ]
  },
  {
   "cell_type": "code",
   "execution_count": 11,
   "id": "seven-pepper",
   "metadata": {},
   "outputs": [
    {
     "name": "stdout",
     "output_type": "stream",
     "text": [
      "BORK, HI MY NAME IS HANK!\n"
     ]
    }
   ],
   "source": [
    "dog2 = Dog(name=\"Hank\", weight=40)\n",
    "dog2.speak()"
   ]
  },
  {
   "cell_type": "markdown",
   "id": "centered-service",
   "metadata": {},
   "source": [
    "================================================"
   ]
  },
  {
   "cell_type": "markdown",
   "id": "moved-nickname",
   "metadata": {},
   "source": [
    "### Example from tutorial 7.1"
   ]
  },
  {
   "cell_type": "markdown",
   "id": "alive-denial",
   "metadata": {},
   "source": [
    "Let’s consider the example task we defined in tutorial 7.1 on thinking functionally:\n",
    "\n",
    "As an example, let's imagine our coding task is to search a database of biomedical publications in PDF format and to count all mentions or references of any gene names that exist in a Human Genome database. Before you even begin this task you should start by creating an outline of the atomized tasks involved. For example, we could break this problem into a number of functions where each accomplishes one of the following tasks:\n",
    "- extract gene names from a biomedical database into a dict object mapping names to integer 0.\n",
    "- check for special formatting of gene names and attempt to standardize (e.g., make all uppercase).\n",
    "extract text from PDFs into a dictionary mapping article name to contents.\n",
    "- parse article text into list of words and format to match gene names (e.g., all uppercase).\n",
    "- iterate over articles counting occurrence of all gene names among word lists in each.\n",
    "- format the count results dictionary into a table and print to a file or stdout."
   ]
  },
  {
   "cell_type": "code",
   "execution_count": 12,
   "id": "invisible-minnesota",
   "metadata": {},
   "outputs": [],
   "source": [
    "class CountGenesInPDFs:\n",
    "    def __init__(gene_database, pdf_database):\n",
    "        # store input arguments\n",
    "        self.gene_database = gene_database\n",
    "        self.pdf_database = pdf_database\n",
    "        \n",
    "        # attributes to fill with function calls\n",
    "        self.count_dict = {}\n",
    "        self.article_dict = {}\n",
    "        \n",
    "    def extract_gene_names_from_database(self):\n",
    "        \"extract genes names from database and store in count_dict as {gene_name: 0}\"\n",
    "        pass\n",
    "    \n",
    "    def standardize_gene_names(self):\n",
    "        \"standardize gene names in self.count_dict()\"\n",
    "        pass\n",
    "    \n",
    "    def extract_text_from_pdfs(self):\n",
    "        \"extract text from pdfs and store in article_dict {filename: test-string}\"\n",
    "        pass\n",
    "    \n",
    "    def parse_article_text_into_wordlist(self):\n",
    "        \"parse text in article_dict values into a list of words\"\n",
    "        pass\n",
    "    \n",
    "    def count_genes_in_articles(self):\n",
    "        \"iterate over articles in article_dict and store counts in count_dict\"\n",
    "        pass\n",
    "    \n",
    "    def count_genes(self):\n",
    "        \"the main function that returns a dictionary with counts of genes in all articles\"\n",
    "        self.extract_gene_names_from_database()\n",
    "        self.standardize_gene_names()\n",
    "        self.extract_text_from_pdfs()\n",
    "        self.parse_article_text_into_wordlist()\n",
    "        self.count_genes_in_articles()\n",
    "        \n",
    "        return self.count_dict"
   ]
  },
  {
   "cell_type": "code",
   "execution_count": 13,
   "id": "round-secondary",
   "metadata": {},
   "outputs": [
    {
     "ename": "NameError",
     "evalue": "name 'gene_database' is not defined",
     "output_type": "error",
     "traceback": [
      "\u001b[0;31m---------------------------------------------------------------------------\u001b[0m",
      "\u001b[0;31mNameError\u001b[0m                                 Traceback (most recent call last)",
      "\u001b[0;32m<ipython-input-13-a4311eff3894>\u001b[0m in \u001b[0;36m<module>\u001b[0;34m\u001b[0m\n\u001b[0;32m----> 1\u001b[0;31m \u001b[0mcounter\u001b[0m \u001b[0;34m=\u001b[0m \u001b[0mCountGenesInPDFs\u001b[0m\u001b[0;34m(\u001b[0m\u001b[0mgene_database\u001b[0m\u001b[0;34m,\u001b[0m \u001b[0mpdf_database\u001b[0m\u001b[0;34m)\u001b[0m\u001b[0;34m\u001b[0m\u001b[0;34m\u001b[0m\u001b[0m\n\u001b[0m\u001b[1;32m      2\u001b[0m \u001b[0mcounter\u001b[0m\u001b[0;34m.\u001b[0m\u001b[0mcount_genes\u001b[0m\u001b[0;34m(\u001b[0m\u001b[0;34m)\u001b[0m\u001b[0;34m\u001b[0m\u001b[0;34m\u001b[0m\u001b[0m\n",
      "\u001b[0;31mNameError\u001b[0m: name 'gene_database' is not defined"
     ]
    }
   ],
   "source": [
    "counter = CountGenesInPDFs(gene_database, pdf_database)\n",
    "counter.count_genes()"
   ]
  },
  {
   "cell_type": "markdown",
   "id": "neural-subcommittee",
   "metadata": {},
   "source": [
    "### youtube video\n",
    "python scripting demonstration\n",
    "https://youtu.be/ZDa-Z5JzLYM"
   ]
  },
  {
   "cell_type": "code",
   "execution_count": null,
   "id": "racial-registration",
   "metadata": {},
   "outputs": [],
   "source": []
  }
 ],
 "metadata": {
  "kernelspec": {
   "display_name": "Python 3",
   "language": "python",
   "name": "python3"
  },
  "language_info": {
   "codemirror_mode": {
    "name": "ipython",
    "version": 3
   },
   "file_extension": ".py",
   "mimetype": "text/x-python",
   "name": "python",
   "nbconvert_exporter": "python",
   "pygments_lexer": "ipython3",
   "version": "3.8.5"
  }
 },
 "nbformat": 4,
 "nbformat_minor": 5
}
